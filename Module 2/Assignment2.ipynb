{
 "cells": [
  {
   "cell_type": "code",
   "execution_count": null,
   "id": "a0071665-1690-477b-9c17-bc8853344f20",
   "metadata": {},
   "outputs": [],
   "source": [
    "# Q1. How do you comment code in Python? What are the different types of comments?\n",
    "# This is a single-line comment\n",
    "\"\"\"\n",
    "This is a multi-line comment.\n",
    "It can span multiple lines.\n",
    "\"\"\""
   ]
  },
  {
   "cell_type": "code",
   "execution_count": 9,
   "id": "1525ae81-7d76-4970-a932-9dcc0f2d614f",
   "metadata": {},
   "outputs": [
    {
     "name": "stdout",
     "output_type": "stream",
     "text": [
      "10\n"
     ]
    }
   ],
   "source": [
    "# Q2. What are variables in Python? How do you declare and assign values to variables?\n",
    "# Variables in Python are used to store data values.\n",
    "# To declare and assign a value to a variable, you can use the assignment operator \"=\".\n",
    "my_variable = 10\n",
    "print(my_variable)"
   ]
  },
  {
   "cell_type": "code",
   "execution_count": 8,
   "id": "46eec881-fcf9-4e54-9ef3-0fa37d5eecf1",
   "metadata": {},
   "outputs": [
    {
     "name": "stdout",
     "output_type": "stream",
     "text": [
      "10\n"
     ]
    }
   ],
   "source": [
    "# Q3. How do you convert one data type to another in Python?\n",
    "num_str = \"10\"\n",
    "num_int = int(num_str)\n",
    "print(num_int)"
   ]
  },
  {
   "cell_type": "code",
   "execution_count": 10,
   "id": "5489d20c-b03f-4f2d-ba68-8cb10ddfe244",
   "metadata": {},
   "outputs": [],
   "source": [
    "# Q4. How do you write and execute a Python script from the command line?\n",
    "# To write and execute a Python script from the command line, follow these steps:\n",
    "# 1. Create a new Python file with a .py extension, e.g., my_script.py.\n",
    "# 2. Write your Python code in the file.\n",
    "# 3. Save the file.\n",
    "# 4. Open the command line or terminal.\n",
    "# 5. Navigate to the directory where the Python file is located.\n",
    "# 6. Run the script using the \"python\" command followed by the file name.\n",
    "# Example: python my_script.py"
   ]
  },
  {
   "cell_type": "code",
   "execution_count": 11,
   "id": "b1706c93-040a-4ef3-9699-c1f29ae313e3",
   "metadata": {},
   "outputs": [
    {
     "name": "stdout",
     "output_type": "stream",
     "text": [
      "[2, 3]\n"
     ]
    }
   ],
   "source": [
    "# Q5. Given a list my_list = [1, 2, 3, 4, 5], write the code to slice the list and obtain the sub-list [2, 3].\n",
    "my_list = [1, 2, 3, 4, 5]\n",
    "sub_list = my_list[1:3]\n",
    "print(sub_list)"
   ]
  },
  {
   "cell_type": "code",
   "execution_count": 12,
   "id": "7074be55-e490-4641-9f92-d90e93a9c273",
   "metadata": {},
   "outputs": [
    {
     "name": "stdout",
     "output_type": "stream",
     "text": [
      "(2+3j)\n"
     ]
    }
   ],
   "source": [
    "# Q6. What is a complex number in mathematics, and how is it represented in Python?\n",
    "# A complex number is a number of the form a + bi, where 'a' and 'b' are real numbers, and 'i' is the imaginary unit (√-1).\n",
    "# In Python, complex numbers are represented using the \"j\" suffix to denote the imaginary part.\n",
    "complex_num = 2 + 3j\n",
    "print(complex_num)"
   ]
  },
  {
   "cell_type": "code",
   "execution_count": 13,
   "id": "50fa4234-1a21-4d56-91dd-7748620c6553",
   "metadata": {},
   "outputs": [],
   "source": [
    "# Q7. What is the correct way to declare a variable named age and assign the value 25 to it?\n",
    "age = 25"
   ]
  },
  {
   "cell_type": "code",
   "execution_count": 14,
   "id": "5e6b6eb0-981c-43bd-9ee8-fb3cbd535b44",
   "metadata": {},
   "outputs": [],
   "source": [
    "# Q8. Declare a variable named price and assign the value 9.99 to it. What data type does this variable belong to?\n",
    "price = 9.99\n",
    "# \"price\" belongs to the float data type."
   ]
  },
  {
   "cell_type": "code",
   "execution_count": 15,
   "id": "194d9b87-40a4-4440-ab9a-f92b3fb4c0bd",
   "metadata": {},
   "outputs": [
    {
     "name": "stdout",
     "output_type": "stream",
     "text": [
      "Ritik Makhija\n"
     ]
    }
   ],
   "source": [
    "# Q9. Create a variable named name and assign your full name to it as a string. How would you print the value of this variable?\n",
    "name = \"Ritik Makhija\"\n",
    "print(name)"
   ]
  },
  {
   "cell_type": "code",
   "execution_count": 16,
   "id": "b18e25fd-8b95-4b41-84ad-89840d9f02bf",
   "metadata": {},
   "outputs": [
    {
     "name": "stdout",
     "output_type": "stream",
     "text": [
      "World\n"
     ]
    }
   ],
   "source": [
    "# Q10. Given the string \"Hello, World!\", extract the substring \"World\".\n",
    "my_string = \"Hello, World!\"\n",
    "substring = my_string[7:12]\n",
    "print(substring) "
   ]
  },
  {
   "cell_type": "code",
   "execution_count": 17,
   "id": "f6b016ec-44f5-4518-9bb8-1ef7b616a6c8",
   "metadata": {},
   "outputs": [
    {
     "name": "stdout",
     "output_type": "stream",
     "text": [
      "True\n"
     ]
    }
   ],
   "source": [
    "# Q11. Create a variable named \"is_student\" and assign it a boolean value indicating whether you are currently a student or not.\n",
    "is_student = True\n",
    "print(is_student)\n"
   ]
  },
  {
   "cell_type": "code",
   "execution_count": null,
   "id": "85eb02a9-b09a-45ac-9051-e99a5e37e12e",
   "metadata": {},
   "outputs": [],
   "source": []
  }
 ],
 "metadata": {
  "kernelspec": {
   "display_name": "Python 3 (ipykernel)",
   "language": "python",
   "name": "python3"
  },
  "language_info": {
   "codemirror_mode": {
    "name": "ipython",
    "version": 3
   },
   "file_extension": ".py",
   "mimetype": "text/x-python",
   "name": "python",
   "nbconvert_exporter": "python",
   "pygments_lexer": "ipython3",
   "version": "3.10.8"
  }
 },
 "nbformat": 4,
 "nbformat_minor": 5
}
