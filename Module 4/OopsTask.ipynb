{
 "cells": [
  {
   "cell_type": "code",
   "execution_count": 1,
   "metadata": {},
   "outputs": [],
   "source": [
    "# Q1: Create a vehicle class with an init method having instance variables as name_of_vehicle, max_speed, and average_of_vehicle.\n",
    "\n",
    "class Vehicle:\n",
    "    def __init__(self, name_of_vehicle, max_speed, average_of_vehicle):\n",
    "        self.name_of_vehicle = name_of_vehicle\n",
    "        self.max_speed = max_speed\n",
    "        self.average_of_vehicle = average_of_vehicle"
   ]
  },
  {
   "cell_type": "code",
   "execution_count": 2,
   "metadata": {},
   "outputs": [],
   "source": [
    "# Q2: Create a child class car from the vehicle class created in Q1, which will inherit the vehicle class.\n",
    "# Create a method named seating_capacity which takes capacity as an argument and returns the name of the vehicle and its seating capacity.\n",
    "\n",
    "class Car(Vehicle):\n",
    "    def seating_capacity(self, capacity):\n",
    "        return f\"The {self.name_of_vehicle} has a seating capacity of {capacity}.\""
   ]
  },
  {
   "cell_type": "code",
   "execution_count": 3,
   "metadata": {},
   "outputs": [
    {
     "name": "stdout",
     "output_type": "stream",
     "text": [
      "This is Base1.\n",
      "This is Base2.\n",
      "This is Derived.\n"
     ]
    }
   ],
   "source": [
    "# Q3: What is multiple inheritance? Write a python code to demonstrate multiple inheritance.\n",
    "\n",
    "# Multiple inheritance is a feature in object-oriented programming where a class can inherit attributes and methods from multiple base classes.\n",
    "# It allows a class to inherit and combine the features of multiple parent classes.\n",
    "\n",
    "class Base1:\n",
    "    def display1(self):\n",
    "        print(\"This is Base1.\")\n",
    "\n",
    "class Base2:\n",
    "    def display2(self):\n",
    "        print(\"This is Base2.\")\n",
    "\n",
    "class Derived(Base1, Base2):\n",
    "    def display3(self):\n",
    "        print(\"This is Derived.\")\n",
    "\n",
    "obj = Derived()\n",
    "obj.display1()  \n",
    "obj.display2()  \n",
    "obj.display3() "
   ]
  },
  {
   "cell_type": "code",
   "execution_count": 12,
   "metadata": {},
   "outputs": [
    {
     "name": "stdout",
     "output_type": "stream",
     "text": [
      "John\n",
      "Alice\n"
     ]
    }
   ],
   "source": [
    "# Q4: What are getter and setter in python? Create a class and create a getter and a setter method in this class.\n",
    "\n",
    "# Getter and setter methods are used to access and modify the values of private attributes in a class.\n",
    "\n",
    "class Person:\n",
    "    def __init__(self, name):\n",
    "        self.__name = name\n",
    "\n",
    "    @property\n",
    "    def name(self):\n",
    "        return self.__name\n",
    "\n",
    "    @name.setter\n",
    "    def name(self, name):\n",
    "        self.__name = name\n",
    "\n",
    "person = Person(\"John\")\n",
    "print(person.name)  # Output: John\n",
    "person.name = \"Alice\"\n",
    "print(person.name)  # Output: Alice"
   ]
  },
  {
   "cell_type": "code",
   "execution_count": 6,
   "metadata": {},
   "outputs": [
    {
     "name": "stdout",
     "output_type": "stream",
     "text": [
      "Dog barks.\n"
     ]
    }
   ],
   "source": [
    "# Q5: What is method overriding in python? Write a python code to demonstrate method overriding.\n",
    "\n",
    "# Method overriding is a feature in object-oriented programming where a subclass provides its own implementation of a method that is already defined in its parent class.\n",
    "# The method in the subclass overrides the method in the parent class with the same name.\n",
    "\n",
    "class Animal:\n",
    "    def sound(self):\n",
    "        print(\"Animal makes a sound.\")\n",
    "\n",
    "class Dog(Animal):\n",
    "    def sound(self):\n",
    "        print(\"Dog barks.\")\n",
    "\n",
    "dog = Dog()\n",
    "dog.sound()"
   ]
  }
 ],
 "metadata": {
  "kernelspec": {
   "display_name": "Python 3",
   "language": "python",
   "name": "python3"
  },
  "language_info": {
   "codemirror_mode": {
    "name": "ipython",
    "version": 3
   },
   "file_extension": ".py",
   "mimetype": "text/x-python",
   "name": "python",
   "nbconvert_exporter": "python",
   "pygments_lexer": "ipython3",
   "version": "3.9.6"
  },
  "orig_nbformat": 4
 },
 "nbformat": 4,
 "nbformat_minor": 2
}
