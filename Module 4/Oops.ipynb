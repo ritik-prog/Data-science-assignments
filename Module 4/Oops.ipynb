{
 "cells": [
  {
   "cell_type": "code",
   "execution_count": 2,
   "metadata": {},
   "outputs": [
    {
     "name": "stdout",
     "output_type": "stream",
     "text": [
      "Toyota\n"
     ]
    }
   ],
   "source": [
    "# Q1: Explain Class and Object with respect to Object-Oriented Programming. Give a suitable example.\n",
    "\n",
    "# Class: A class is a blueprint or a template for creating objects. It defines the attributes (data) and behaviors (methods) that the objects will have.\n",
    "# Object: An object is an instance of a class. It represents a specific entity created based on the class definition.\n",
    "\n",
    "class Car:\n",
    "    def __init__(self, make, model, year):\n",
    "        self.make = make\n",
    "        self.model = model\n",
    "        self.year = year\n",
    "\n",
    "car1 = Car(\"Toyota\", \"Camry\", 2022)\n",
    "print(car1.make)"
   ]
  },
  {
   "cell_type": "code",
   "execution_count": null,
   "metadata": {},
   "outputs": [],
   "source": [
    "# Q2: Name the four pillars of OOPs.\n",
    "\n",
    "# The four pillars of OOPs are:\n",
    "# 1. Encapsulation\n",
    "# 2. Inheritance\n",
    "# 3. Polymorphism\n",
    "# 4. Abstraction"
   ]
  },
  {
   "cell_type": "code",
   "execution_count": 3,
   "metadata": {},
   "outputs": [
    {
     "name": "stdout",
     "output_type": "stream",
     "text": [
      "John\n"
     ]
    }
   ],
   "source": [
    "# Q3: Explain why the __init__() function is used. Give a suitable example.\n",
    "\n",
    "# The __init__() function is a special method in Python classes that is automatically called when an object is created from the class.\n",
    "# It is used to initialize the attributes of the object.\n",
    "\n",
    "class Person:\n",
    "    def __init__(self, name, age):\n",
    "        self.name = name\n",
    "        self.age = age\n",
    "\n",
    "person1 = Person(\"John\", 30)\n",
    "print(person1.name)"
   ]
  },
  {
   "cell_type": "code",
   "execution_count": 5,
   "metadata": {},
   "outputs": [
    {
     "name": "stdout",
     "output_type": "stream",
     "text": [
      "78.5\n"
     ]
    }
   ],
   "source": [
    "# Q4: Why self is used in OOPs?\n",
    "\n",
    "# 'self' is a convention in Python that refers to the instance (object) of a class. It represents the object itself.\n",
    "# It is used to access and manipulate the attributes and methods of the object within the class.\n",
    "\n",
    "# Example:\n",
    "class Circle:\n",
    "    def __init__(self, radius):\n",
    "        self.radius = radius\n",
    "\n",
    "    def calculate_area(self):\n",
    "        area = 3.14 * self.radius ** 2\n",
    "        return area\n",
    "\n",
    "circle1 = Circle(5)\n",
    "print(circle1.calculate_area())"
   ]
  },
  {
   "cell_type": "code",
   "execution_count": 6,
   "metadata": {},
   "outputs": [
    {
     "name": "stdout",
     "output_type": "stream",
     "text": [
      "The dog barks.\n",
      "Hello from Base1.\n",
      "Sedan needs fuel.\n"
     ]
    }
   ],
   "source": [
    "# Q5: What is inheritance? Give an example for each type of inheritance.\n",
    "\n",
    "# Inheritance is a fundamental concept in OOP where a class inherits the attributes and methods of another class.\n",
    "# It allows for code reuse and the creation of a hierarchical relationship between classes.\n",
    "\n",
    "# Single Inheritance\n",
    "class Animal:\n",
    "    def speak(self):\n",
    "        print(\"The animal makes a sound.\")\n",
    "\n",
    "class Dog(Animal):\n",
    "    def speak(self):\n",
    "        print(\"The dog barks.\")\n",
    "\n",
    "dog = Dog()\n",
    "dog.speak() \n",
    "\n",
    "# Multiple Inheritance\n",
    "class Base1:\n",
    "    def greet(self):\n",
    "        print(\"Hello from Base1.\")\n",
    "\n",
    "class Base2:\n",
    "    def greet(self):\n",
    "        print(\"Hello from Base2.\")\n",
    "\n",
    "class Derived(Base1, Base2):\n",
    "    pass\n",
    "\n",
    "obj = Derived()\n",
    "obj.greet() \n",
    "\n",
    "# Multilevel Inheritance\n",
    "class Vehicle:\n",
    "    def fuel(self):\n",
    "        print(\"Vehicle needs fuel.\")\n",
    "\n",
    "class Car(Vehicle):\n",
    "    def fuel(self):\n",
    "        print(\"Car needs fuel.\")\n",
    "\n",
    "class Sedan(Car):\n",
    "    def fuel(self):\n",
    "        print(\"Sedan needs fuel.\")\n",
    "\n",
    "sedan = Sedan()\n",
    "sedan.fuel()  # Output: Sedan needs fuel."
   ]
  }
 ],
 "metadata": {
  "kernelspec": {
   "display_name": "Python 3",
   "language": "python",
   "name": "python3"
  },
  "language_info": {
   "codemirror_mode": {
    "name": "ipython",
    "version": 3
   },
   "file_extension": ".py",
   "mimetype": "text/x-python",
   "name": "python",
   "nbconvert_exporter": "python",
   "pygments_lexer": "ipython3",
   "version": "3.9.6"
  },
  "orig_nbformat": 4
 },
 "nbformat": 4,
 "nbformat_minor": 2
}
